{
 "cells": [
  {
   "cell_type": "code",
   "execution_count": 1,
   "metadata": {},
   "outputs": [],
   "source": [
    "class CFG:\n",
    "    bias_type = \"gender\""
   ]
  },
  {
   "cell_type": "code",
   "execution_count": 2,
   "metadata": {},
   "outputs": [
    {
     "name": "stderr",
     "output_type": "stream",
     "text": [
      "/home/aishik-wsl/anaconda3/envs/PyDebiaser/lib/python3.10/site-packages/tqdm/auto.py:21: TqdmWarning: IProgress not found. Please update jupyter and ipywidgets. See https://ipywidgets.readthedocs.io/en/stable/user_install.html\n",
      "  from .autonotebook import tqdm as notebook_tqdm\n",
      "Special tokens have been added in the vocabulary, make sure the associated word embeddings are fine-tuned or trained.\n"
     ]
    }
   ],
   "source": [
    "from pydebiaser.SelfDebias import SelfDebias\n",
    "debiaser = SelfDebias(\"openai-community/gpt2-medium\", CFG.bias_type)"
   ]
  },
  {
   "cell_type": "code",
   "execution_count": 3,
   "metadata": {},
   "outputs": [
    {
     "name": "stdout",
     "output_type": "stream",
     "text": [
      "cuda\n"
     ]
    },
    {
     "data": {
      "text/plain": [
       "array([[-101.52089,  -97.98573, -103.17352, ..., -110.73928, -113.57724,\n",
       "         -99.6131 ],\n",
       "       [-216.02524, -215.6185 , -215.78484, ..., -232.42477, -232.12344,\n",
       "        -213.77759]], dtype=float32)"
      ]
     },
     "execution_count": 3,
     "metadata": {},
     "output_type": "execute_result"
    }
   ],
   "source": [
    "debiaser.generate_embeddings([\"air\",\"water\"])"
   ]
  },
  {
   "cell_type": "code",
   "execution_count": 4,
   "metadata": {},
   "outputs": [],
   "source": [
    "# from pydebiaser.INLP import INLP\n",
    "# debiaser = INLP('BertModel', \"bert-base-uncased\", CFG.bias_type)\n",
    "# model = debiaser.debias(save=True,path = 'saved-models')"
   ]
  },
  {
   "cell_type": "code",
   "execution_count": 5,
   "metadata": {},
   "outputs": [
    {
     "name": "stdout",
     "output_type": "stream",
     "text": [
      "Downloading wikipedia-2.5.txt ....\n"
     ]
    },
    {
     "name": "stderr",
     "output_type": "stream",
     "text": [
      "Cloning into '/home/aishik-wsl/PyDebiaser/pydebiaser/data/text'...\n"
     ]
    }
   ],
   "source": [
    "from pydebiaser.SentDebias import SentDebias\n",
    "debiaser = SentDebias('BertModel', \"bert-base-uncased\", [CFG.bias_type])\n",
    "model = debiaser.debias(save=True,path = 'saved-models')"
   ]
  },
  {
   "cell_type": "code",
   "execution_count": null,
   "metadata": {},
   "outputs": [],
   "source": []
  }
 ],
 "metadata": {
  "kernelspec": {
   "display_name": "PyDebiaser",
   "language": "python",
   "name": "python3"
  },
  "language_info": {
   "codemirror_mode": {
    "name": "ipython",
    "version": 3
   },
   "file_extension": ".py",
   "mimetype": "text/x-python",
   "name": "python",
   "nbconvert_exporter": "python",
   "pygments_lexer": "ipython3",
   "version": "3.10.14"
  }
 },
 "nbformat": 4,
 "nbformat_minor": 2
}
